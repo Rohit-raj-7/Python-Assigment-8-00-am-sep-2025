{
 "cells": [
  {
   "cell_type": "markdown",
   "id": "4a910ddd-8ca8-41af-a12d-f3faf996c47b",
   "metadata": {},
   "source": [
    "## ___ WHILE LOOP IN PYTHON___"
   ]
  },
  {
   "cell_type": "markdown",
   "id": "a7c0bbe6-2b75-4ebd-86ef-ab65d7699b20",
   "metadata": {},
   "source": [
    "##### A while loop in Python repeatedly executes a block of code as long as a specified condition remains True."
   ]
  },
  {
   "cell_type": "markdown",
   "id": "0d634abf-a099-491a-a277-38805c87f578",
   "metadata": {},
   "source": [
    "            # If the condition is True, the code block inside the loop is executed. \n",
    "            # If the condition is False, the loop terminates,"
   ]
  },
  {
   "cell_type": "code",
   "execution_count": null,
   "id": "23d4dc56-ca4a-45be-bc5b-3de4fef43e7e",
   "metadata": {},
   "outputs": [],
   "source": []
  },
  {
   "cell_type": "markdown",
   "id": "98feeb48-eb19-4cc8-b60f-99dcd8edf424",
   "metadata": {},
   "source": [
    "---- While loop syntax --\n",
    "\n",
    "intialization\n",
    "\n",
    "while(condition):\n",
    "\n",
    "       # statement \n",
    "       \n",
    "Incrementation / Decrementation"
   ]
  },
  {
   "cell_type": "code",
   "execution_count": null,
   "id": "25a5aec6-68af-4865-89b6-7d090a2159a5",
   "metadata": {},
   "outputs": [],
   "source": [
    "# print a number from 1-10 in while loop"
   ]
  },
  {
   "cell_type": "code",
   "execution_count": 1,
   "id": "bbcf8d0c-3a4e-457f-b850-d4dca26dfafe",
   "metadata": {},
   "outputs": [
    {
     "name": "stdout",
     "output_type": "stream",
     "text": [
      "1\n",
      "2\n",
      "3\n",
      "4\n",
      "5\n",
      "6\n",
      "7\n",
      "8\n",
      "9\n",
      "10\n"
     ]
    }
   ],
   "source": [
    "a=1\n",
    "while a<=10:\n",
    "    print(a)\n",
    "    a= a + 1\n"
   ]
  },
  {
   "cell_type": "code",
   "execution_count": 15,
   "id": "34b489d0-52fa-4995-b131-9788cc974177",
   "metadata": {},
   "outputs": [],
   "source": [
    "# write a Python program to print all the even numbers between 1 and 50 using while loop "
   ]
  },
  {
   "cell_type": "code",
   "execution_count": 84,
   "id": "a970eb30-427d-4071-85c1-0329cb5edc60",
   "metadata": {},
   "outputs": [
    {
     "name": "stdout",
     "output_type": "stream",
     "text": [
      "2\n",
      "4\n",
      "6\n",
      "8\n",
      "10\n",
      "12\n",
      "14\n",
      "16\n",
      "18\n",
      "20\n",
      "22\n",
      "24\n",
      "26\n",
      "28\n",
      "30\n",
      "32\n",
      "34\n",
      "36\n",
      "38\n",
      "40\n",
      "42\n",
      "44\n",
      "46\n",
      "48\n",
      "50\n"
     ]
    }
   ],
   "source": [
    "n=1\n",
    "while n<=50:\n",
    "    if n%2==0:\n",
    "        print(n)\n",
    "    n = n +1"
   ]
  },
  {
   "cell_type": "code",
   "execution_count": 86,
   "id": "dbe764a4-e406-44e9-8e80-0c4e83ced036",
   "metadata": {},
   "outputs": [
    {
     "name": "stdin",
     "output_type": "stream",
     "text": [
      "Enter value  22\n"
     ]
    },
    {
     "name": "stdout",
     "output_type": "stream",
     "text": [
      "2\n",
      "4\n",
      "6\n",
      "8\n",
      "10\n",
      "12\n",
      "14\n",
      "16\n",
      "18\n",
      "20\n",
      "22\n"
     ]
    }
   ],
   "source": [
    "p=int(input(\"Enter value \"))\n",
    "n=1\n",
    "while n<=p:\n",
    "    if n%2==0:\n",
    "        print(n)\n",
    "    n = n +1"
   ]
  },
  {
   "cell_type": "code",
   "execution_count": 2,
   "id": "3adb15b0-498c-4b30-9442-d5a79a4aa26b",
   "metadata": {},
   "outputs": [
    {
     "name": "stdout",
     "output_type": "stream",
     "text": [
      "p\n",
      "y\n",
      "t\n",
      "h\n",
      "o\n",
      "n\n"
     ]
    }
   ],
   "source": [
    "s=\"python\"\n",
    "i=0\n",
    "while (i<=len(s)-1):\n",
    "    print(s[i])\n",
    "    i += 1"
   ]
  },
  {
   "cell_type": "code",
   "execution_count": 7,
   "id": "51706ccd-39d9-4436-8b90-9272e3bdfcd3",
   "metadata": {},
   "outputs": [],
   "source": [
    "# seperate each digit of a number and print it on the new line"
   ]
  },
  {
   "cell_type": "code",
   "execution_count": 26,
   "id": "cb6c4cff-ba43-4627-b444-f9d6ef554d12",
   "metadata": {},
   "outputs": [
    {
     "name": "stdout",
     "output_type": "stream",
     "text": [
      "6\n",
      "5\n",
      "2\n"
     ]
    }
   ],
   "source": [
    "a=256\n",
    "\n",
    "while a>0:\n",
    "    c= a % 10\n",
    "    print(c)\n",
    "    a= a // 10\n",
    "    # print(a)\n",
    "    n= a + c\n",
    "    \n",
    "    "
   ]
  },
  {
   "cell_type": "code",
   "execution_count": 38,
   "id": "15845583-fc7b-464a-9cf7-4799795f1d91",
   "metadata": {},
   "outputs": [
    {
     "name": "stdin",
     "output_type": "stream",
     "text": [
      "   G   543\n"
     ]
    },
    {
     "name": "stdout",
     "output_type": "stream",
     "text": [
      "3\n",
      "4\n",
      "5\n"
     ]
    }
   ],
   "source": [
    "\n",
    "n=int(input(\"   G  \"))\n",
    "while n > 0:\n",
    "    print(n%10)\n",
    "    n = n //10\n"
   ]
  },
  {
   "cell_type": "markdown",
   "id": "01d5b55b-0fbd-4b09-a755-efc09fa28e46",
   "metadata": {},
   "source": [
    "##### write a program to calculate sum of digits without function using while loop"
   ]
  },
  {
   "cell_type": "code",
   "execution_count": 89,
   "id": "d293fe8c-6718-4400-bd4a-a928423581ff",
   "metadata": {},
   "outputs": [
    {
     "name": "stdin",
     "output_type": "stream",
     "text": [
      "   G   345\n"
     ]
    },
    {
     "name": "stdout",
     "output_type": "stream",
     "text": [
      "n  5\n",
      "n  4\n",
      "n  3\n",
      "sum is :-  12\t"
     ]
    }
   ],
   "source": [
    "n=int(input(\"   G  \"))\n",
    "s=0\n",
    "while n > 0:\n",
    "    a = (n%10)\n",
    "    s = s + a\n",
    "    print(\"n \", a)\n",
    "    n = n //10\n",
    "    # print( \"num sum \",s, end=\"\\t\")\n",
    "    \n",
    "   \n",
    "print( \"sum is :- \", s , end=\"\\t\")   "
   ]
  },
  {
   "cell_type": "markdown",
   "id": "efa91d4c-f032-4180-9d72-7445af628c9f",
   "metadata": {},
   "source": [
    "##### check the number is reverse or not "
   ]
  },
  {
   "cell_type": "code",
   "execution_count": 78,
   "id": "68eb00cd-51c9-4179-b676-617b6557f5dc",
   "metadata": {},
   "outputs": [
    {
     "name": "stdin",
     "output_type": "stream",
     "text": [
      "   value :-    456\n"
     ]
    },
    {
     "name": "stdout",
     "output_type": "stream",
     "text": [
      "654\n"
     ]
    }
   ],
   "source": [
    "n=int(input(\"   value :-   \"))\n",
    "rev=0\n",
    "while n > 0:\n",
    "    rev = (rev * 10 + n % 10)\n",
    "    n = n //10\n",
    "print(rev)    "
   ]
  },
  {
   "cell_type": "markdown",
   "id": "c46ae073-8c31-4e43-84ee-401844f00211",
   "metadata": {},
   "source": [
    "##### check the number is pallidrim or not"
   ]
  },
  {
   "cell_type": "code",
   "execution_count": 83,
   "id": "043d879d-a073-4ac9-828c-18f49ae688fe",
   "metadata": {},
   "outputs": [
    {
     "name": "stdin",
     "output_type": "stream",
     "text": [
      "   G   545\n"
     ]
    },
    {
     "name": "stdout",
     "output_type": "stream",
     "text": [
      "pallidrom \n"
     ]
    }
   ],
   "source": [
    "n=int(input(\"   G  \"))\n",
    "copy =n  # copy of n\n",
    "rev =0\n",
    "while n > 0:\n",
    "    rev  = rev  * 10 + n % 10\n",
    "    n = n //10\n",
    "if copy == rev :\n",
    "    print(\"pallidrom \")\n",
    "else:\n",
    "    print(\"not pallidrom \")"
   ]
  },
  {
   "cell_type": "markdown",
   "id": "4c79b228-562c-460f-b768-977f12489c66",
   "metadata": {},
   "source": []
  }
 ],
 "metadata": {
  "kernelspec": {
   "display_name": "Python 3 (ipykernel)",
   "language": "python",
   "name": "python3"
  },
  "language_info": {
   "codemirror_mode": {
    "name": "ipython",
    "version": 3
   },
   "file_extension": ".py",
   "mimetype": "text/x-python",
   "name": "python",
   "nbconvert_exporter": "python",
   "pygments_lexer": "ipython3",
   "version": "3.12.7"
  },
  "widgets": {
   "application/vnd.jupyter.widget-state+json": {
    "state": {},
    "version_major": 2,
    "version_minor": 0
   }
  }
 },
 "nbformat": 4,
 "nbformat_minor": 5
}
