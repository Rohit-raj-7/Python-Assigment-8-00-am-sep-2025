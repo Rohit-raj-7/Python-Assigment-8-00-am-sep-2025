{
 "cells": [
  {
   "cell_type": "markdown",
   "id": "4a910ddd-8ca8-41af-a12d-f3faf996c47b",
   "metadata": {},
   "source": [
    "## ___ WHILE LOOP IN PYTHON___"
   ]
  },
  {
   "cell_type": "markdown",
   "id": "a7c0bbe6-2b75-4ebd-86ef-ab65d7699b20",
   "metadata": {},
   "source": [
    "##### A while loop in Python repeatedly executes a block of code as long as a specified condition remains True."
   ]
  },
  {
   "cell_type": "markdown",
   "id": "0d634abf-a099-491a-a277-38805c87f578",
   "metadata": {},
   "source": [
    "            # If the condition is True, the code block inside the loop is executed. \n",
    "            # If the condition is False, the loop terminates,"
   ]
  },
  {
   "cell_type": "code",
   "execution_count": null,
   "id": "23d4dc56-ca4a-45be-bc5b-3de4fef43e7e",
   "metadata": {},
   "outputs": [],
   "source": []
  },
  {
   "cell_type": "markdown",
   "id": "98feeb48-eb19-4cc8-b60f-99dcd8edf424",
   "metadata": {},
   "source": [
    "---- While loop syntax --\n",
    "\n",
    "intialization\n",
    "\n",
    "while(condition):\n",
    "\n",
    "       # statement \n",
    "       \n",
    "Incrementation / Decrementation"
   ]
  },
  {
   "cell_type": "code",
   "execution_count": null,
   "id": "25a5aec6-68af-4865-89b6-7d090a2159a5",
   "metadata": {},
   "outputs": [],
   "source": [
    "# print a number from 1-10 in while loop"
   ]
  },
  {
   "cell_type": "code",
   "execution_count": 1,
   "id": "bbcf8d0c-3a4e-457f-b850-d4dca26dfafe",
   "metadata": {},
   "outputs": [
    {
     "name": "stdout",
     "output_type": "stream",
     "text": [
      "1\n",
      "2\n",
      "3\n",
      "4\n",
      "5\n",
      "6\n",
      "7\n",
      "8\n",
      "9\n",
      "10\n"
     ]
    }
   ],
   "source": [
    "a=1\n",
    "while a<=10:\n",
    "    print(a)\n",
    "    a= a + 1\n"
   ]
  },
  {
   "cell_type": "code",
   "execution_count": 15,
   "id": "34b489d0-52fa-4995-b131-9788cc974177",
   "metadata": {},
   "outputs": [],
   "source": [
    "# write a Python program to print all the even numbers between 1 and 50 using while loop "
   ]
  },
  {
   "cell_type": "code",
   "execution_count": 84,
   "id": "a970eb30-427d-4071-85c1-0329cb5edc60",
   "metadata": {},
   "outputs": [
    {
     "name": "stdout",
     "output_type": "stream",
     "text": [
      "2\n",
      "4\n",
      "6\n",
      "8\n",
      "10\n",
      "12\n",
      "14\n",
      "16\n",
      "18\n",
      "20\n",
      "22\n",
      "24\n",
      "26\n",
      "28\n",
      "30\n",
      "32\n",
      "34\n",
      "36\n",
      "38\n",
      "40\n",
      "42\n",
      "44\n",
      "46\n",
      "48\n",
      "50\n"
     ]
    }
   ],
   "source": [
    "n=1\n",
    "while n<=50:\n",
    "    if n%2==0:\n",
    "        print(n)\n",
    "    n = n +1"
   ]
  },
  {
   "cell_type": "code",
   "execution_count": 86,
   "id": "dbe764a4-e406-44e9-8e80-0c4e83ced036",
   "metadata": {},
   "outputs": [
    {
     "name": "stdin",
     "output_type": "stream",
     "text": [
      "Enter value  22\n"
     ]
    },
    {
     "name": "stdout",
     "output_type": "stream",
     "text": [
      "2\n",
      "4\n",
      "6\n",
      "8\n",
      "10\n",
      "12\n",
      "14\n",
      "16\n",
      "18\n",
      "20\n",
      "22\n"
     ]
    }
   ],
   "source": [
    "p=int(input(\"Enter value \"))\n",
    "n=1\n",
    "while n<=p:\n",
    "    if n%2==0:\n",
    "        print(n)\n",
    "    n = n +1"
   ]
  },
  {
   "cell_type": "code",
   "execution_count": 2,
   "id": "3adb15b0-498c-4b30-9442-d5a79a4aa26b",
   "metadata": {},
   "outputs": [
    {
     "name": "stdout",
     "output_type": "stream",
     "text": [
      "p\n",
      "y\n",
      "t\n",
      "h\n",
      "o\n",
      "n\n"
     ]
    }
   ],
   "source": [
    "s=\"python\"\n",
    "i=0\n",
    "while (i<=len(s)-1):\n",
    "    print(s[i])\n",
    "    i += 1"
   ]
  },
  {
   "cell_type": "code",
   "execution_count": 7,
   "id": "51706ccd-39d9-4436-8b90-9272e3bdfcd3",
   "metadata": {},
   "outputs": [],
   "source": [
    "# seperate each digit of a number and print it on the new line"
   ]
  },
  {
   "cell_type": "code",
   "execution_count": 26,
   "id": "cb6c4cff-ba43-4627-b444-f9d6ef554d12",
   "metadata": {},
   "outputs": [
    {
     "name": "stdout",
     "output_type": "stream",
     "text": [
      "6\n",
      "5\n",
      "2\n"
     ]
    }
   ],
   "source": [
    "a=256\n",
    "\n",
    "while a>0:\n",
    "    c= a % 10\n",
    "    print(c)\n",
    "    a= a // 10\n",
    "    # print(a)\n",
    "    n= a + c\n",
    "    \n",
    "    "
   ]
  },
  {
   "cell_type": "code",
   "execution_count": 38,
   "id": "15845583-fc7b-464a-9cf7-4799795f1d91",
   "metadata": {},
   "outputs": [
    {
     "name": "stdin",
     "output_type": "stream",
     "text": [
      "   G   543\n"
     ]
    },
    {
     "name": "stdout",
     "output_type": "stream",
     "text": [
      "3\n",
      "4\n",
      "5\n"
     ]
    }
   ],
   "source": [
    "\n",
    "n=int(input(\"   G  \"))\n",
    "while n > 0:\n",
    "    print(n%10)\n",
    "    n = n //10\n"
   ]
  },
  {
   "cell_type": "markdown",
   "id": "01d5b55b-0fbd-4b09-a755-efc09fa28e46",
   "metadata": {},
   "source": [
    "##### write a program to calculate sum of digits without function using while loop"
   ]
  },
  {
   "cell_type": "code",
   "execution_count": 89,
   "id": "d293fe8c-6718-4400-bd4a-a928423581ff",
   "metadata": {},
   "outputs": [
    {
     "name": "stdin",
     "output_type": "stream",
     "text": [
      "   G   345\n"
     ]
    },
    {
     "name": "stdout",
     "output_type": "stream",
     "text": [
      "n  5\n",
      "n  4\n",
      "n  3\n",
      "sum is :-  12\t"
     ]
    }
   ],
   "source": [
    "n=int(input(\"   G  \"))\n",
    "s=0\n",
    "while n > 0:\n",
    "    a = (n%10)\n",
    "    s = s + a\n",
    "    print(\"n \", a)\n",
    "    n = n //10\n",
    "    # print( \"num sum \",s, end=\"\\t\")\n",
    "    \n",
    "   \n",
    "print( \"sum is :- \", s , end=\"\\t\")   "
   ]
  },
  {
   "cell_type": "markdown",
   "id": "efa91d4c-f032-4180-9d72-7445af628c9f",
   "metadata": {},
   "source": [
    "##### check the number is reverse or not "
   ]
  },
  {
   "cell_type": "code",
   "execution_count": 78,
   "id": "68eb00cd-51c9-4179-b676-617b6557f5dc",
   "metadata": {},
   "outputs": [
    {
     "name": "stdin",
     "output_type": "stream",
     "text": [
      "   value :-    456\n"
     ]
    },
    {
     "name": "stdout",
     "output_type": "stream",
     "text": [
      "654\n"
     ]
    }
   ],
   "source": [
    "n=int(input(\"   value :-   \"))\n",
    "rev=0\n",
    "while n > 0:\n",
    "    rev = (rev * 10 + n % 10)\n",
    "    n = n //10\n",
    "print(rev)    "
   ]
  },
  {
   "cell_type": "markdown",
   "id": "c46ae073-8c31-4e43-84ee-401844f00211",
   "metadata": {},
   "source": [
    "##### check the number is pallidrim or not"
   ]
  },
  {
   "cell_type": "code",
   "execution_count": 83,
   "id": "043d879d-a073-4ac9-828c-18f49ae688fe",
   "metadata": {},
   "outputs": [
    {
     "name": "stdin",
     "output_type": "stream",
     "text": [
      "   G   545\n"
     ]
    },
    {
     "name": "stdout",
     "output_type": "stream",
     "text": [
      "pallidrom \n"
     ]
    }
   ],
   "source": [
    "n=int(input(\"   G  \"))\n",
    "copy =n  # copy of n\n",
    "rev =0\n",
    "while n > 0:\n",
    "    rev  = rev  * 10 + n % 10\n",
    "    n = n //10\n",
    "if copy == rev :\n",
    "    print(\"pallidrom \")\n",
    "else:\n",
    "    print(\"not pallidrom \")"
   ]
  },
  {
   "cell_type": "markdown",
   "id": "4c79b228-562c-460f-b768-977f12489c66",
   "metadata": {},
   "source": [
    "##### Print the table from while loop"
   ]
  },
  {
   "cell_type": "code",
   "execution_count": 1,
   "id": "3fe75de0-9a97-4b3c-b3e0-bda75ef1b4d5",
   "metadata": {},
   "outputs": [
    {
     "name": "stdout",
     "output_type": "stream",
     "text": [
      "1 \t2 \t3 \t4 \t5 \t6 \t7 \t8 \t9 \t10 \t\n",
      "2 \t4 \t6 \t8 \t10 \t12 \t14 \t16 \t18 \t20 \t\n",
      "3 \t6 \t9 \t12 \t15 \t18 \t21 \t24 \t27 \t30 \t\n",
      "4 \t8 \t12 \t16 \t20 \t24 \t28 \t32 \t36 \t40 \t\n",
      "5 \t10 \t15 \t20 \t25 \t30 \t35 \t40 \t45 \t50 \t\n",
      "6 \t12 \t18 \t24 \t30 \t36 \t42 \t48 \t54 \t60 \t\n",
      "7 \t14 \t21 \t28 \t35 \t42 \t49 \t56 \t63 \t70 \t\n",
      "8 \t16 \t24 \t32 \t40 \t48 \t56 \t64 \t72 \t80 \t\n",
      "9 \t18 \t27 \t36 \t45 \t54 \t63 \t72 \t81 \t90 \t\n",
      "10 \t20 \t30 \t40 \t50 \t60 \t70 \t80 \t90 \t100 \t\n"
     ]
    }
   ],
   "source": [
    "i=1\n",
    "\n",
    "while i<=10:\n",
    "    j=1\n",
    "    while j<=10:\n",
    "        print(i*j, end=\" \\t\")\n",
    "        j=j+1\n",
    "        \n",
    "    print()    \n",
    "    i=i+1"
   ]
  },
  {
   "cell_type": "markdown",
   "id": "a6a7e7dc-7758-4e3b-89c0-8fe21f00a96e",
   "metadata": {},
   "source": [
    "## ptint a pattern "
   ]
  },
  {
   "cell_type": "code",
   "execution_count": 2,
   "id": "791bf591-a656-47b8-9e6c-34cdde7a6cbf",
   "metadata": {},
   "outputs": [
    {
     "name": "stdout",
     "output_type": "stream",
     "text": [
      "* \t\n",
      "* \t* \t\n",
      "* \t* \t* \t\n",
      "* \t* \t* \t* \t\n",
      "* \t* \t* \t* \t* \t\n",
      "* \t* \t* \t* \t* \t* \t\n",
      "* \t* \t* \t* \t* \t* \t* \t\n",
      "* \t* \t* \t* \t* \t* \t* \t* \t\n",
      "* \t* \t* \t* \t* \t* \t* \t* \t* \t\n",
      "* \t* \t* \t* \t* \t* \t* \t* \t* \t* \t\n"
     ]
    }
   ],
   "source": [
    "i=1\n",
    "while i<=10:\n",
    "    j=1\n",
    "    while j<=i:\n",
    "        print('*', end=\" \\t\")\n",
    "        j=j+1  \n",
    "    print()    \n",
    "    i=i+1"
   ]
  },
  {
   "cell_type": "code",
   "execution_count": 3,
   "id": "5b8b7732-2f70-4d14-9979-04895cd71fa4",
   "metadata": {},
   "outputs": [
    {
     "name": "stdout",
     "output_type": "stream",
     "text": [
      "* \n",
      "* * \n",
      "* * * \n",
      "* * * * \n",
      "* * * * * \n",
      "* * * * * * \n",
      "* * * * * * * \n",
      "* * * * * * * * \n",
      "* * * * * * * * * \n",
      "* * * * * * * * * * \n"
     ]
    }
   ],
   "source": [
    "i=1\n",
    "while i<=10:\n",
    "    j=1\n",
    "    while j<=i:\n",
    "        print('*', end=\" \")\n",
    "        j=j+1  \n",
    "    print()    \n",
    "    i=i+1"
   ]
  },
  {
   "cell_type": "code",
   "execution_count": 4,
   "id": "3de0cba8-9eb0-4f5b-a22c-d835f501ce05",
   "metadata": {},
   "outputs": [
    {
     "name": "stdout",
     "output_type": "stream",
     "text": [
      "1 \n",
      "2 4 \n",
      "3 6 9 \n",
      "4 8 12 16 \n",
      "5 10 15 20 25 \n",
      "6 12 18 24 30 36 \n",
      "7 14 21 28 35 42 49 \n",
      "8 16 24 32 40 48 56 64 \n",
      "9 18 27 36 45 54 63 72 81 \n",
      "10 20 30 40 50 60 70 80 90 100 \n"
     ]
    }
   ],
   "source": [
    "i=1\n",
    "while i<=10:\n",
    "    j=1\n",
    "    while j<=i:\n",
    "        print(i*j, end=\" \")\n",
    "        j=j+1  \n",
    "    print()    \n",
    "    i=i+1"
   ]
  },
  {
   "cell_type": "code",
   "execution_count": 5,
   "id": "abe4059d-95c5-4516-86b3-bb184b91a446",
   "metadata": {},
   "outputs": [
    {
     "name": "stdin",
     "output_type": "stream",
     "text": [
      " value   4\n"
     ]
    },
    {
     "name": "stdout",
     "output_type": "stream",
     "text": [
      "16 20 24 28 32 36 \n",
      "20 25 30 35 40 45 \n",
      "24 30 36 42 48 54 \n",
      "28 35 42 49 56 63 \n",
      "32 40 48 56 64 72 \n",
      "36 45 54 63 72 81 \n"
     ]
    }
   ],
   "source": [
    "n=int(input(\" value  \"))\n",
    "for i in range(n,10,1):\n",
    "    for j in range(n,10,1):\n",
    "          print(i*j, end=\" \")\n",
    "    print()    \n",
    "        "
   ]
  },
  {
   "cell_type": "code",
   "execution_count": 6,
   "id": "82bf2720-72bf-4fb3-88fc-c9f81667bc5f",
   "metadata": {},
   "outputs": [
    {
     "name": "stdout",
     "output_type": "stream",
     "text": [
      "    * \n",
      "   * * \n",
      "  * * * \n",
      " * * * * \n",
      "* * * * * \n"
     ]
    }
   ],
   "source": [
    "for i in range(1,6,1):\n",
    "    for j in  range(5,i,-1):\n",
    "        print(\" \",end=\"\")\n",
    "    for k in range (1, i+1, 1):\n",
    "        print(\"*\", end=\" \")\n",
    "    print() "
   ]
  },
  {
   "cell_type": "code",
   "execution_count": 7,
   "id": "d9813d6b-1e65-4793-9847-75a89b423146",
   "metadata": {},
   "outputs": [
    {
     "name": "stdout",
     "output_type": "stream",
     "text": [
      " *  \n",
      " *   *  \n",
      " *   *   *  \n",
      " *   *   *   *  \n",
      " *   *   *   *   *  \n",
      " *   *   *   *  \n",
      " *   *   *  \n",
      " *   *  \n",
      " *  \n"
     ]
    }
   ],
   "source": [
    "for i in range(1,6,1):\n",
    "    for j in  range(1,i+1,1):\n",
    "        print(\" * \",end=\" \")\n",
    "    print()\n",
    "\n",
    "for x in range(1,5,1):\n",
    "    for y in  range(5,x,-1):\n",
    "         print(\" * \", end=\" \")        \n",
    "    print() "
   ]
  },
  {
   "cell_type": "code",
   "execution_count": 8,
   "id": "f1dcc1d3-3d92-4b7e-ac0c-0c596ab0f6c1",
   "metadata": {},
   "outputs": [
    {
     "name": "stdout",
     "output_type": "stream",
     "text": [
      " *   *   *   *   *  \n",
      " *   *   *   *  \n",
      " *   *   *  \n",
      " *   *  \n",
      " *  \n"
     ]
    }
   ],
   "source": [
    "for i in range(1,6,1):\n",
    "    for j in  range(5,i-1,-1):\n",
    "        print(\" * \",end=\" \")\n",
    "    print()"
   ]
  },
  {
   "cell_type": "code",
   "execution_count": 9,
   "id": "af8986a0-d170-496f-adbd-53945f234c77",
   "metadata": {},
   "outputs": [
    {
     "name": "stdout",
     "output_type": "stream",
     "text": [
      "\n",
      " *  \n",
      " *   *  \n",
      " *   *   *  \n",
      " *   *   *   *  \n"
     ]
    }
   ],
   "source": [
    "for i in range(6,1,-1):\n",
    "    for j in  range(5,i-1,-1):\n",
    "        print(\" * \",end=\" \")\n",
    "    print()"
   ]
  },
  {
   "cell_type": "code",
   "execution_count": 10,
   "id": "641c13a4-dda5-4670-b8ef-b5b4e2ae1f97",
   "metadata": {},
   "outputs": [
    {
     "name": "stdout",
     "output_type": "stream",
     "text": [
      " *  \n",
      " *   *  \n",
      " *   *   *  \n",
      " *   *   *   *  \n",
      " *   *   *   *   *  \n"
     ]
    }
   ],
   "source": [
    "for i in range(1,6,1):\n",
    "    for j in  range(1,i+1,1):\n",
    "        print(\" * \",end=\" \")\n",
    "    print()"
   ]
  },
  {
   "cell_type": "code",
   "execution_count": 11,
   "id": "46435d76-f326-4d6b-9dd0-2da88abff67d",
   "metadata": {},
   "outputs": [
    {
     "name": "stdout",
     "output_type": "stream",
     "text": [
      " *  \n",
      " *   *  \n",
      " *   *   *  \n",
      " *   *   *   *  \n",
      " *   *   *   *   *  \n",
      " *   *   *   *   *  \n",
      " *   *   *   *  \n",
      " *   *   *  \n",
      " *   *  \n",
      " *  \n"
     ]
    }
   ],
   "source": [
    "for i in range(1,6,1):\n",
    "    for j in  range(1,i+1,1):\n",
    "        print(\" * \",end=\" \")\n",
    "    print()\n",
    "for i in range(1,6,1):\n",
    "    for j in  range(5,i-1,-1):\n",
    "        print(\" * \",end=\" \")\n",
    "    print()"
   ]
  },
  {
   "cell_type": "code",
   "execution_count": 12,
   "id": "3a5be898-df86-40c5-b4d6-57157218044b",
   "metadata": {},
   "outputs": [
    {
     "name": "stdout",
     "output_type": "stream",
     "text": [
      " *   *   *   *   *   *  \n",
      " *   *   *   *   *  \n",
      " *   *   *   *  \n",
      " *   *   *  \n",
      " *   *  \n"
     ]
    }
   ],
   "source": [
    "for i in range(1,6,1):\n",
    "    for j in  range(6,i-1,-1):\n",
    "        print(\" * \",end=\" \")\n",
    "    print()"
   ]
  },
  {
   "cell_type": "raw",
   "id": "07bf7184-35e3-45ec-af2f-2294f51b552a",
   "metadata": {},
   "source": [
    "# Butterfly Pattern using loops in Python"
   ]
  },
  {
   "cell_type": "code",
   "execution_count": 13,
   "id": "71c761c0-c8a7-4271-aaf2-0cd6a7b2773e",
   "metadata": {},
   "outputs": [
    {
     "name": "stdout",
     "output_type": "stream",
     "text": [
      "*        *\n",
      "**      **\n",
      "***    ***\n",
      "****  ****\n",
      "**********\n",
      "**********\n",
      "****  ****\n",
      "***    ***\n",
      "**      **\n",
      "*        *\n"
     ]
    }
   ],
   "source": [
    "\n",
    "n = 5  # You can change this value to make the pattern larger\n",
    "\n",
    "# Upper half\n",
    "for i in range(1, n + 1):\n",
    "    # Left wing\n",
    "    print('*' * i, end='')\n",
    "    # Spaces between wings\n",
    "    print(' ' * (2 * (n - i)), end='')\n",
    "    # Right wing\n",
    "    print('*' * i)\n",
    "\n",
    "# Lower half\n",
    "for i in range(n, 0, -1):\n",
    "    # Left wing\n",
    "    print('*' * i, end='')\n",
    "    # Spaces between wings\n",
    "    print(' ' * (2 * (n - i)), end='')\n",
    "    # Right wing\n",
    "    print('*' * i)"
   ]
  },
  {
   "cell_type": "code",
   "execution_count": 14,
   "id": "dda8cadf-448d-4bed-9dac-e522c0f57a7e",
   "metadata": {},
   "outputs": [
    {
     "name": "stdout",
     "output_type": "stream",
     "text": [
      "*          *\n",
      "**        **\n",
      "***      ***\n",
      "****    ****\n",
      "*****  *****\n"
     ]
    }
   ],
   "source": [
    "n=5\n",
    "for i in range(1, n + 1):\n",
    "      print('*' * i, end=' ')\n",
    "      print(' ' * (2 * (n - i)), end=' ')\n",
    "      print('*' * i)"
   ]
  },
  {
   "cell_type": "markdown",
   "id": "4e8944be-21ae-4f84-8a99-697f00e75c6a",
   "metadata": {},
   "source": [
    "## Write the syntax of a for loop inside a while loop.\n",
    "initialization of a while loop while (condition): for var in range():\n",
    "\n",
    "    statement of outer loop\n",
    "    inc/dec of while loop\n",
    "## Write the syntax of a while loop inside a for loop\n",
    "intalization of for loop for var in range(): while (condition):\n",
    "\n",
    "    statement of outer loop\n",
    "    inc/dec of while loop"
   ]
  },
  {
   "cell_type": "markdown",
   "id": "411b33bb-e4b6-42fe-ae24-8a5a2486b648",
   "metadata": {},
   "source": [
    "## For loop inside while loop\n",
    "## while loop inside for loop"
   ]
  },
  {
   "cell_type": "code",
   "execution_count": 15,
   "id": "0facc5c8-70a5-43f7-904b-68a3394bf811",
   "metadata": {},
   "outputs": [
    {
     "name": "stdout",
     "output_type": "stream",
     "text": [
      "*  *  *  *  *  \n",
      "*           *  \n",
      "*           *  \n",
      "*           *  \n",
      "*  *  *  *  *  \n"
     ]
    }
   ],
   "source": [
    "i=1\n",
    "while i<=5:\n",
    "    for j in range(1,6,1):\n",
    "        if (i==1 or i==5 or j==1 or j==5):\n",
    "            print(\"*\", end=\"  \")\n",
    "        else:\n",
    "          print(\" \", end=\"  \")\n",
    "    print() \n",
    "    i= i+1"
   ]
  },
  {
   "cell_type": "code",
   "execution_count": 16,
   "id": "3138c88f-ea8e-4542-82ab-88ede82b7c86",
   "metadata": {},
   "outputs": [
    {
     "name": "stdout",
     "output_type": "stream",
     "text": [
      "*  *  *  *  *  \n",
      "*              \n",
      "*              \n",
      "*              \n",
      "*  *  *  *  *  \n"
     ]
    }
   ],
   "source": [
    "i=1\n",
    "while i<=5:\n",
    "    for j in range(1,6,1):\n",
    "        if (i==1 or i==5 or j==1 or j==6):\n",
    "            print(\"*\", end=\"  \")\n",
    "        else:\n",
    "          print(\" \", end=\"  \")\n",
    "    print() \n",
    "    i= i+1"
   ]
  },
  {
   "cell_type": "code",
   "execution_count": 17,
   "id": "6484ad7c-4410-48bb-a9c4-8c95a6e92237",
   "metadata": {},
   "outputs": [
    {
     "name": "stdout",
     "output_type": "stream",
     "text": [
      "*  *  *  *  *  *  *  *  \n",
      "*                    *  \n",
      "*                    *  \n",
      "*                    *  \n",
      "*                    *  \n",
      "*                    *  \n",
      "*                    *  \n",
      "*  *  *  *  *  *  *  *  \n"
     ]
    }
   ],
   "source": [
    "i=1\n",
    "while i<=8:\n",
    "    for j in range(1,9,1):\n",
    "        if (i==1 or i==8 or j==1 or j==8):\n",
    "            print(\"*\", end=\"  \")\n",
    "        else:\n",
    "          print(\" \", end=\"  \")\n",
    "    print() \n",
    "    i= i+1"
   ]
  },
  {
   "cell_type": "code",
   "execution_count": null,
   "id": "e2237ac0-00ed-4242-994b-2ae56bf0df06",
   "metadata": {},
   "outputs": [],
   "source": []
  }
 ],
 "metadata": {
  "kernelspec": {
   "display_name": "Python 3 (ipykernel)",
   "language": "python",
   "name": "python3"
  },
  "language_info": {
   "codemirror_mode": {
    "name": "ipython",
    "version": 3
   },
   "file_extension": ".py",
   "mimetype": "text/x-python",
   "name": "python",
   "nbconvert_exporter": "python",
   "pygments_lexer": "ipython3",
   "version": "3.12.7"
  },
  "widgets": {
   "application/vnd.jupyter.widget-state+json": {
    "state": {},
    "version_major": 2,
    "version_minor": 0
   }
  }
 },
 "nbformat": 4,
 "nbformat_minor": 5
}
