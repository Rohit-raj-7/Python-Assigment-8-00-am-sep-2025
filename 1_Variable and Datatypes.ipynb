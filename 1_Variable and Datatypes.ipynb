{
 "cells": [
  {
   "cell_type": "markdown",
   "id": "51aa433d-f333-4f91-afa6-6d030596098e",
   "metadata": {},
   "source": [
    "## ->COMMENTS"
   ]
  },
  {
   "cell_type": "markdown",
   "id": "7e3d278c-8ac7-423f-a48a-21512ae47150",
   "metadata": {},
   "source": [
    "##### Comments are used to write something that the programmer does not want to execute.\n",
    "##### Comments are something that are ignored by the python interpreter.\n",
    "\n",
    "\n",
    "## TYPES OF COMMENTS\t\n",
    " 1. Single-line comments\n",
    "##### We have to use '#' for writing a comment in Python.\n",
    "\n",
    "2. Multiline comments\n",
    "##### Multiline comments are not available in Python, but we can achieve it by using Doc \n",
    "##### String \"\"\" Multiline \"\"\".\n",
    "\n",
    "\"\"\" This is an amazing\n",
    "\n",
    "    example of a\n",
    "    \n",
    "    Multiline comment!\"\"\"\n",
    "\n"
   ]
  },
  {
   "cell_type": "markdown",
   "id": "af911c3a-7f38-41bc-9451-9fe572a1a224",
   "metadata": {},
   "source": [
    "## Line Continuation\n",
    "##### Use a backslash (\\) to continue a statement to the next line\n",
    "\n",
    "total=1+2+3+4+5+6+7+\\\n",
    "4+5+6\n",
    "\n",
    "print(total)"
   ]
  },
  {
   "cell_type": "markdown",
   "id": "42c2a16e-3d8c-4127-ac9e-6a803b10ebf5",
   "metadata": {},
   "source": [
    "## Variables in python"
   ]
  },
  {
   "cell_type": "markdown",
   "id": "f81a2290-2ee7-474d-945d-689309647709",
   "metadata": {},
   "source": [
    "##### A variable is the name given to a memory location in a program. For example.\n",
    "\n",
    "##### Rules to declare a variable\n",
    "  ---- valid variable declaration\n",
    "-- For example\n",
    "\n",
    "a=2\n",
    "\n",
    "A=3\n",
    "\n",
    "num1=5\n",
    "\n",
    "Num=1\n",
    "\n",
    "stuid=123\n",
    "\n",
    "stu_id=321\n",
    "\n",
    "_stu_name =\"priya\"\n",
    "\n",
    "a,b,c=2,4,2\n",
    "\n",
    "a=7;b=4;c=3;\n",
    "\n",
    "#####           ----- Invalid variable declaration__\n",
    "\n",
    "           1num=54\n",
    "\n",
    "           stu name =234\n",
    "\n",
    "           num#=4       -- we can not use special characters.\n",
    "\n",
    "\n",
    "           \n",
    "--> You can not use numbers at variable start.\n",
    "\n",
    "--> You can not use spaces in variables.\n",
    "\n",
    "--> You should not use special characters in variables.\n",
    "           \n"
   ]
  },
  {
   "cell_type": "markdown",
   "id": "e45b218f-9570-40b2-a9b0-22523f57d179",
   "metadata": {},
   "source": [
    "##### input/output function"
   ]
  },
  {
   "cell_type": "raw",
   "id": "a0e90901-4dea-47e3-a91c-f973f344912b",
   "metadata": {},
   "source": [
    "Print()- outfuction\n",
    "input()-inputfunction"
   ]
  },
  {
   "cell_type": "code",
   "execution_count": null,
   "id": "533dadd5-5020-4a39-a89a-32f9f7c3cdc7",
   "metadata": {},
   "outputs": [],
   "source": []
  },
  {
   "cell_type": "code",
   "execution_count": null,
   "id": "c8ad3366-5379-45d8-922f-a094d60a28cb",
   "metadata": {},
   "outputs": [],
   "source": []
  },
  {
   "cell_type": "code",
   "execution_count": null,
   "id": "a661ccb0-748b-49fb-a95b-974c30f28ffc",
   "metadata": {},
   "outputs": [],
   "source": []
  },
  {
   "cell_type": "markdown",
   "id": "3ced3888-6fa9-475b-a9d0-07e2d8bd8f85",
   "metadata": {},
   "source": [
    "## -> Data Types"
   ]
  },
  {
   "cell_type": "markdown",
   "id": "26f7d01e-5a76-4fcd-b23f-27bfee325ffa",
   "metadata": {},
   "source": [
    "##### > Data types are the things we store in Variables, and they define what data type variables are.\n",
    "A. Basic Data Types\n",
    "   - Integers\n",
    "   - Floating-point numbers\n",
    "   - Strings\n",
    "   - Booleans\n",
    "     \n",
    "B. Advanced Data Types\n",
    "   - Lists\n",
    "   - Tuples\n",
    "   - Sets\n",
    "   - Dictionaries\n",
    "\n",
    "##### > Python has built-in data types for different kinds of data.\n",
    "\n",
    "## Numbers\n",
    "\n",
    "##### Integer - All the numbers excluding decimal places and fractions.\n",
    "\n",
    "##### Float - All the decimal numbers and fraction values are Float.\n",
    "\n",
    "##### Complex Numbers -  with real and Imaginary parts are complex.\n",
    "\n",
    "## Strings\n",
    "\n",
    "##### Strings - This is used to store anything in Python, literally anything that is available on your keyboard.\n",
    "\n",
    "##### You have to use quotes to store anything, and it will be considered a string. You can use double Quotes (\"\") or single quotes (\") to store both works the same\n",
    "\n",
    "## Boolean \n",
    "##### Boolean - This is the data type that will always give the result of  True & False"
   ]
  },
  {
   "cell_type": "markdown",
   "id": "fdbcfaf6-8ed8-4cb4-a7a1-da30fcab79cb",
   "metadata": {},
   "source": [
    "\n"
   ]
  },
  {
   "cell_type": "markdown",
   "id": "143dd238-2867-4e8b-9369-72b32b4e9f44",
   "metadata": {},
   "source": [
    "## String Indexing\n",
    "\n",
    " > You must have thought there are so many characters in a string but can you access everyone.\n",
    "\n",
    "> Yes, that's possible using indexing. Indexing starts from 0 and goes till the number of   characters you have.\n",
    "   --   Ex-\n",
    "          a= \"Hello\"\n",
    "          print(a[0]) ==> output - \"H\"\n",
    "\n",
    "> There is negative indexing as well and it starts from -1, but the starting position is from the back of the string.\n",
    "   -- Ex- \n",
    "        a =\"Hello\"\n",
    "        print(a[-1]) ==> output - \"o\""
   ]
  },
  {
   "cell_type": "markdown",
   "id": "cad6ac8d-5e78-40b9-be8c-e3413f1b3d45",
   "metadata": {},
   "source": [
    "## String Slicing\n",
    "\n",
    "You know how to access characters in string. But there are slicing option as well.\n",
    "\n",
    "Slicing means cutting out a slice from string and this is also done using index values.\n",
    "\n",
    "eg\n",
    "    a= \"hello\"\n",
    "    print(a[1:4:1]) ==> output \"ell\"\n",
    "\n",
    "So here we have start, stop and steps position and keep a note if we use stop at 4 it will slice till 3 only.\n",
    "\n",
    "## Type conversion\n",
    "\n",
    "For understanding type conversion you have to look at these 4 things.\n",
    "\n",
    "int()\n",
    "\n",
    "float()\n",
    "\n",
    "str()\n",
    "\n",
    "bool()\n",
    "\n",
    "There are more functions like this but these are 4 main function, looking at these functions you can guess these are used to convert one data type to another.\n",
    "\n",
    "ex- \n",
    "a = 12\n",
    "\n",
    "a = str(a) print(a) ==> \"12\" (a will be converted to string)"
   ]
  },
  {
   "cell_type": "code",
   "execution_count": 6,
   "id": "c9b3fe4c-a40a-402f-9ac6-17c05f79ac88",
   "metadata": {},
   "outputs": [
    {
     "name": "stdin",
     "output_type": "stream",
     "text": [
      "Enter your id :-  22\n",
      "Enter your name :-  22\n",
      "Enter your salary :-  22\n"
     ]
    },
    {
     "name": "stdout",
     "output_type": "stream",
     "text": [
      "22 22 22.0\n",
      "Id Num:- 22\n",
      "Emp name :- 22\n",
      "Sal :- 22.0\n",
      "emp_id= 22\n",
      "emp_name= 22,\n",
      "emp_salary= 22.0\n",
      "emp_id= 22,emp_name= 22, emp_salary= 22.0\n",
      "emp_id= 22,\n",
      "emp_name= 22, \n",
      "emp_salary= 22.0\n"
     ]
    }
   ],
   "source": [
    "# Q. Write a program to read employee data: emp_id, emp_name, and emp_salary\n",
    "\n",
    "emp_id =int(input(\"Enter your id :- \"))\n",
    "emp_name =str(input(\"Enter your name :- \"))\n",
    "emp_salary=float(input(\"Enter your salary :- \"))\n",
    "print(emp_id, emp_name,emp_salary)\n",
    "\n",
    "\n",
    "print(\"Id Num:-\",emp_id)\n",
    "print(\"Emp name :-\",emp_name)\n",
    "print(\"Sal :-\",emp_salary)\n",
    "\n",
    "## . formate\n",
    "print (\"emp_id= {}\\nemp_name= {},\\nemp_salary= {}\".format(emp_id, emp_name,emp_salary))\n",
    "\n",
    "## f string method\n",
    "print (f\"emp_id= {emp_id},emp_name= {emp_name}, emp_salary= {emp_salary}\")\n",
    "\n",
    "print (f\"emp_id= {emp_id},\\nemp_name= {emp_name}, \\nemp_salary= {emp_salary}\")"
   ]
  },
  {
   "cell_type": "code",
   "execution_count": null,
   "id": "90985f05-5fa2-42b1-a0e9-4ceea6dcab0d",
   "metadata": {},
   "outputs": [],
   "source": []
  },
  {
   "cell_type": "code",
   "execution_count": null,
   "id": "32a03039-3b2e-4baf-8e07-426d50300906",
   "metadata": {},
   "outputs": [],
   "source": []
  }
 ],
 "metadata": {
  "kernelspec": {
   "display_name": "Python 3 (ipykernel)",
   "language": "python",
   "name": "python3"
  },
  "language_info": {
   "codemirror_mode": {
    "name": "ipython",
    "version": 3
   },
   "file_extension": ".py",
   "mimetype": "text/x-python",
   "name": "python",
   "nbconvert_exporter": "python",
   "pygments_lexer": "ipython3",
   "version": "3.12.7"
  }
 },
 "nbformat": 4,
 "nbformat_minor": 5
}
