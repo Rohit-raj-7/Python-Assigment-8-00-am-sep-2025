{
 "cells": [
  {
   "cell_type": "markdown",
   "id": "ca94a342-3cf9-4ee4-8771-3f93ce9ec7e9",
   "metadata": {},
   "source": [
    "## conditional statement\n",
    "##### Conditional statement is use to decision making by executing different block of code on conditions."
   ]
  },
  {
   "cell_type": "markdown",
   "id": "7a38ab3f-2243-435e-b241-fbc2c5e44294",
   "metadata": {},
   "source": [
    "##### if = it is used to make a decision is a single if statement and conditional statements are true.\n",
    "    \n",
    "##### else = it is used to make a decision is a single if statement and conditional statements are false.\n",
    "\n",
    "##### elif = it is used to make a decision is a single if statement and conditional statements are true or false.\n",
    "\n",
    "##### if-elif ladder = it is used to check multiple conditions."
   ]
  },
  {
   "cell_type": "code",
   "execution_count": 8,
   "id": "361f5ae9-5b9e-4e70-a5af-84995feeb4ea",
   "metadata": {},
   "outputs": [
    {
     "ename": "IndentationError",
     "evalue": "expected an indented block after 'if' statement on line 2 (4117990789.py, line 4)",
     "output_type": "error",
     "traceback": [
      "\u001b[1;36m  Cell \u001b[1;32mIn[8], line 4\u001b[1;36m\u001b[0m\n\u001b[1;33m    else:\u001b[0m\n\u001b[1;37m    ^\u001b[0m\n\u001b[1;31mIndentationError\u001b[0m\u001b[1;31m:\u001b[0m expected an indented block after 'if' statement on line 2\n"
     ]
    }
   ],
   "source": [
    "\n",
    "# If..ELIF syntax\n",
    "if condition1:\n",
    "    # code block to be executed if condition1 is true\n",
    "else:\n",
    "    if condition2:\n",
    "        # code block to be executed if condition2 is true\n",
    "    else:\n",
    "       if condition3:\n",
    "           # code block to be executed if condition3 is true\n",
    "       else:\n",
    "           # code block to be executed if none of the above conditions are true\n",
    "or \n",
    "# If..ELIF syntax\n",
    "if condition1:\n",
    "    # code block to be executed if condition1 is true\n",
    "elif condition2:\n",
    "    # code block to be executed if condition2 is true\n",
    "elif condition3:\n",
    "    # code block to be executed if condition3 is true\n",
    "else\n",
    "    # code block to be executed if none of the above conditions are true"
   ]
  },
  {
   "cell_type": "code",
   "execution_count": 6,
   "id": "b715ae69-bccf-429f-8e07-39da5503713e",
   "metadata": {},
   "outputs": [
    {
     "name": "stdin",
     "output_type": "stream",
     "text": [
      "Enter your age:  6\n",
      "Enter your country:  india\n"
     ]
    },
    {
     "name": "stdout",
     "output_type": "stream",
     "text": [
      "You are not eligible to vote yet.\n"
     ]
    }
   ],
   "source": [
    "\n",
    "## Eligibal for vote\n",
    "age = int(input(\"Enter your age: \"))\n",
    "country = input(\"Enter your country: \").lower()\n",
    "if age >= 18 and country==\"india\":\n",
    "    print(\"You are eligible to vote.\")\n",
    "else:\n",
    "    print(\"You are not eligible to vote yet.\")"
   ]
  },
  {
   "cell_type": "code",
   "execution_count": 2,
   "id": "a4e7b465-6e43-4130-a1ac-15a15271583c",
   "metadata": {},
   "outputs": [
    {
     "name": "stdin",
     "output_type": "stream",
     "text": [
      "Enter the number :- 76\n"
     ]
    },
    {
     "name": "stdout",
     "output_type": "stream",
     "text": [
      "Given number is even \n"
     ]
    }
   ],
   "source": [
    "# Write a program that given number is odd or even \n",
    "\n",
    "Even_odd=eval(input(\"Enter the number :-\"))\n",
    "if Even_odd % 2==0:\n",
    "    print(\"Given number is even \")\n",
    "else :\n",
    "    print('Given number is odd ')\n",
    "    "
   ]
  },
  {
   "cell_type": "code",
   "execution_count": 3,
   "id": "d1ce8cd0-7665-4833-b4c9-b811020fecaf",
   "metadata": {},
   "outputs": [
    {
     "name": "stdin",
     "output_type": "stream",
     "text": [
      "Enter the number :- 76\n"
     ]
    },
    {
     "name": "stdout",
     "output_type": "stream",
     "text": [
      "Num is positive\n"
     ]
    }
   ],
   "source": [
    "# Write a program to check whether the given  number is positive, negative, or zero \n",
    "\n",
    "Num_p_n=eval(input(\"Enter the number :-\"))\n",
    "if Num_p_n>0:\n",
    "    print('Num is positive' )\n",
    "elif Num_p_n<0:\n",
    "    print('Num is negative number  ')\n",
    "elif Num_p_n==0:\n",
    "    print('Zero')\n"
   ]
  },
  {
   "cell_type": "code",
   "execution_count": 9,
   "id": "1dfc9db2-ab80-4a51-b2fa-a6009e56c923",
   "metadata": {},
   "outputs": [
    {
     "ename": "SyntaxError",
     "evalue": "invalid syntax (1118930860.py, line 2)",
     "output_type": "error",
     "traceback": [
      "\u001b[1;36m  Cell \u001b[1;32mIn[9], line 2\u001b[1;36m\u001b[0m\n\u001b[1;33m    syntax:\u001b[0m\n\u001b[1;37m           ^\u001b[0m\n\u001b[1;31mSyntaxError\u001b[0m\u001b[1;31m:\u001b[0m invalid syntax\n"
     ]
    }
   ],
   "source": [
    "## Nested if statement ----\n",
    "syntax:\n",
    "if (condition 1)  # outer if\n",
    "   if (condition 2) # inner if \n",
    "       Statements of condition 2 \n",
    "   else: # inner if else \n",
    "        statement of inner if-else statements\n",
    "else: # outer if else\n",
    "      statement of outer if-else statements"
   ]
  },
  {
   "cell_type": "code",
   "execution_count": 5,
   "id": "47a70c0d-c8ce-47b0-aaca-a7a84e0afcd1",
   "metadata": {},
   "outputs": [
    {
     "name": "stdin",
     "output_type": "stream",
     "text": [
      "Enter the input :- 65\n"
     ]
    },
    {
     "name": "stdout",
     "output_type": "stream",
     "text": [
      "Positive & Odd num is :-  65\n"
     ]
    }
   ],
   "source": [
    "num=eval(input(\"Enter the input :-\"))\n",
    "\n",
    "if num>=0 :\n",
    "    if num%2==0:\n",
    "      print(\"Positive & Even num is :-\",(num))\n",
    "    else:   \n",
    "        print(\"Positive & Odd num is :- \",(num))\n",
    "else:\n",
    "    print(\"Negative num \",(num))"
   ]
  },
  {
   "cell_type": "code",
   "execution_count": null,
   "id": "92cf36d4-11b9-486a-892e-22faa3f00991",
   "metadata": {},
   "outputs": [],
   "source": []
  }
 ],
 "metadata": {
  "kernelspec": {
   "display_name": "Python 3 (ipykernel)",
   "language": "python",
   "name": "python3"
  },
  "language_info": {
   "codemirror_mode": {
    "name": "ipython",
    "version": 3
   },
   "file_extension": ".py",
   "mimetype": "text/x-python",
   "name": "python",
   "nbconvert_exporter": "python",
   "pygments_lexer": "ipython3",
   "version": "3.12.7"
  },
  "widgets": {
   "application/vnd.jupyter.widget-state+json": {
    "state": {},
    "version_major": 2,
    "version_minor": 0
   }
  }
 },
 "nbformat": 4,
 "nbformat_minor": 5
}
