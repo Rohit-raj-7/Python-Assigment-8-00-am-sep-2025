{
 "cells": [
  {
   "cell_type": "markdown",
   "id": "ca94a342-3cf9-4ee4-8771-3f93ce9ec7e9",
   "metadata": {},
   "source": [
    "## conditional statement\n",
    "##### Conditional statement is use to decision making by executing different block of code on conditions."
   ]
  },
  {
   "cell_type": "markdown",
   "id": "8e563024-704e-4c56-ba7b-59ad17c3f4fa",
   "metadata": {},
   "source": [
    "##### if = it is used to make a decision is a single if statement and conditional statements are true.\n",
    "    \n",
    "##### else = it is used to make a decision is a single if statement and conditional statements are false.\n",
    "\n",
    "##### elif = it is used to make a decision is a single if statement and conditional statements are true or false.\n",
    "\n",
    "##### if-elif ladder = it is used to check multiple conditions."
   ]
  },
  {
   "cell_type": "raw",
   "id": "546217fa-152a-4766-aacf-16970c3f6157",
   "metadata": {},
   "source": [
    "\n",
    "# If..ELIF syntax\n",
    "if condition1:\n",
    "    # code block to be executed if condition1 is true\n",
    "else:\n",
    "    if condition2:\n",
    "        # code block to be executed if condition2 is true\n",
    "    else:\n",
    "       if condition3:\n",
    "           # code block to be executed if condition3 is true\n",
    "       else:\n",
    "           # code block to be executed if none of the above conditions are true\n",
    "or \n",
    "# If..ELIF syntax\n",
    "if condition1:\n",
    "    # code block to be executed if condition1 is true\n",
    "elif condition2:\n",
    "    # code block to be executed if condition2 is true\n",
    "elif condition3:\n",
    "    # code block to be executed if condition3 is true\n",
    "else:\n",
    "    # code block to be executed if none of the above conditions are true"
   ]
  },
  {
   "cell_type": "code",
   "execution_count": 4,
   "id": "7db6705d-e17e-4016-a716-80ade4f996a9",
   "metadata": {},
   "outputs": [
    {
     "name": "stdin",
     "output_type": "stream",
     "text": [
      "Enter your age:  87\n",
      "Enter your country:  india\n"
     ]
    },
    {
     "name": "stdout",
     "output_type": "stream",
     "text": [
      "You are eligible to vote.\n"
     ]
    }
   ],
   "source": [
    "\n",
    "## Eligibal for vote\n",
    "age = int(input(\"Enter your age: \"))\n",
    "country = input(\"Enter your country: \").lower()\n",
    "if age >= 18 and country==\"india\":\n",
    "    print(\"You are eligible to vote.\")\n",
    "else:\n",
    "    print(\"You are not eligible to vote yet.\")"
   ]
  },
  {
   "cell_type": "code",
   "execution_count": 2,
   "id": "a4e7b465-6e43-4130-a1ac-15a15271583c",
   "metadata": {},
   "outputs": [
    {
     "name": "stdin",
     "output_type": "stream",
     "text": [
      "Enter the number :- 76\n"
     ]
    },
    {
     "name": "stdout",
     "output_type": "stream",
     "text": [
      "Given number is even \n"
     ]
    }
   ],
   "source": [
    "# Write a program that given number is odd or even \n",
    "\n",
    "Even_odd=eval(input(\"Enter the number :-\"))\n",
    "if Even_odd % 2==0:\n",
    "    print(\"Given number is even \")\n",
    "else :\n",
    "    print('Given number is odd ')\n",
    "    "
   ]
  },
  {
   "cell_type": "code",
   "execution_count": 3,
   "id": "d1ce8cd0-7665-4833-b4c9-b811020fecaf",
   "metadata": {},
   "outputs": [
    {
     "name": "stdin",
     "output_type": "stream",
     "text": [
      "Enter the number :- 76\n"
     ]
    },
    {
     "name": "stdout",
     "output_type": "stream",
     "text": [
      "Num is positive\n"
     ]
    }
   ],
   "source": [
    "# Write a program to check whether the given  number is positive, negative, or zero \n",
    "\n",
    "Num_p_n=eval(input(\"Enter the number :-\"))\n",
    "if Num_p_n>0:\n",
    "    print('Num is positive' )\n",
    "elif Num_p_n<0:\n",
    "    print('Num is negative number  ')\n",
    "elif Num_p_n==0:\n",
    "    print('Zero')\n"
   ]
  },
  {
   "cell_type": "raw",
   "id": "5d1b9ccb-feca-421d-97be-5b0c0ab53589",
   "metadata": {},
   "source": [
    "## Nested if statement ----\n",
    "syntax:\n",
    "if (condition 1)  # outer if\n",
    "   if (condition 2) # inner if \n",
    "       Statements of condition 2 \n",
    "   else: # inner if else \n",
    "        statement of inner if-else statements\n",
    "else: # outer if else\n",
    "      statement of outer if-else statements"
   ]
  },
  {
   "cell_type": "code",
   "execution_count": 5,
   "id": "47a70c0d-c8ce-47b0-aaca-a7a84e0afcd1",
   "metadata": {},
   "outputs": [
    {
     "name": "stdin",
     "output_type": "stream",
     "text": [
      "Enter the input :- 65\n"
     ]
    },
    {
     "name": "stdout",
     "output_type": "stream",
     "text": [
      "Positive & Odd num is :-  65\n"
     ]
    }
   ],
   "source": [
    "num=eval(input(\"Enter the input :-\"))\n",
    "\n",
    "if num>=0 :\n",
    "    if num%2==0:\n",
    "      print(\"Positive & Even num is :-\",(num))\n",
    "    else:   \n",
    "        print(\"Positive & Odd num is :- \",(num))\n",
    "else:\n",
    "    print(\"Negative num \",(num))"
   ]
  },
  {
   "cell_type": "code",
   "execution_count": null,
   "id": "92cf36d4-11b9-486a-892e-22faa3f00991",
   "metadata": {},
   "outputs": [],
   "source": []
  }
 ],
 "metadata": {
  "kernelspec": {
   "display_name": "Python 3 (ipykernel)",
   "language": "python",
   "name": "python3"
  },
  "language_info": {
   "codemirror_mode": {
    "name": "ipython",
    "version": 3
   },
   "file_extension": ".py",
   "mimetype": "text/x-python",
   "name": "python",
   "nbconvert_exporter": "python",
   "pygments_lexer": "ipython3",
   "version": "3.12.7"
  },
  "widgets": {
   "application/vnd.jupyter.widget-state+json": {
    "state": {},
    "version_major": 2,
    "version_minor": 0
   }
  }
 },
 "nbformat": 4,
 "nbformat_minor": 5
}
