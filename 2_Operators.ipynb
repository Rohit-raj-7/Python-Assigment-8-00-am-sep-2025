{
 "cells": [
  {
   "cell_type": "markdown",
   "id": "af627231-0ecc-4183-b711-e744f17be814",
   "metadata": {},
   "source": [
    "## Operators\n",
    "\n",
    "##### Operators are symbols that perform operations on variables and values. Python has several types of operators for different tasks like arithmetic, comparison, logical operations, and more.\n",
    "\n",
    " Types of Operators are --\n",
    "\n",
    "1.\tArithmetic operators: +, -, *, / etc.\n",
    "2.\tAssignment operators: =, +=, -= etc.\n",
    "3.\tComparison operators: ==, >, >=, <, != etc.\n",
    "5.\tLogical operators: and, or, not.\n",
    "6.  bitwise operater -- &  |  ~  >> << ^\n",
    "7.  identity operater -- is, is not, \n",
    "8.  Menbership oprater -- in , not in\n"
   ]
  },
  {
   "cell_type": "markdown",
   "id": "9bb97046-748a-405d-a432-9f899e6fc9a7",
   "metadata": {},
   "source": [
    "==========================================================================================================================================="
   ]
  },
  {
   "cell_type": "markdown",
   "id": "de1113b4-2d40-4426-8616-b9a95e30926a",
   "metadata": {},
   "source": [
    "\n",
    " ## 1. Arithmetic operators\n",
    "\n",
    "##### Arithmetic operators perform mathematical operations like addition, subtraction, multiplication, division, etc.\n",
    "\n",
    "There are 7 types of arithmetic operators.\n",
    "\n",
    "1. addition  (+)\n",
    "2. subtraction  (-)\n",
    "3. multiplication (*)\n",
    "4. division (/)\n",
    "5. Floor division (//)\n",
    "6. modulus (%)\n",
    "7. Exponentiation (**)\n",
    "\n",
    "Eg -\n",
    "\n",
    "a = 12\n",
    "\n",
    "b=8\n",
    "\n",
    "print(a+b)\n",
    "\n",
    "Output - 20"
   ]
  },
  {
   "cell_type": "markdown",
   "id": "601d59f9-5b50-4375-a64e-18c8051f5b9c",
   "metadata": {},
   "source": [
    "##### Q. Take  two inputs from the user and perform all arithmetic operators and print the outputs"
   ]
  },
  {
   "cell_type": "code",
   "execution_count": 1,
   "id": "c06c6ced-ad36-434e-9072-3c90cb28c343",
   "metadata": {},
   "outputs": [
    {
     "name": "stdin",
     "output_type": "stream",
     "text": [
      "Enter the first number :- 2\n",
      "Enter the second number :- 2\n"
     ]
    },
    {
     "name": "stdout",
     "output_type": "stream",
     "text": [
      "Addition is:- 4 \n",
      "subtraction is:- 0 \n",
      "multiple is:- 4 \n",
      "divisionn is:- 1.0 \n",
      "modules is:- 0 \n",
      "flote is:- 1 \n",
      "expon is:- 4\n"
     ]
    }
   ],
   "source": [
    "num1=eval(input(\"Enter the first number :-\"))\n",
    "num2=eval(input(\"Enter the second number :-\"))\n",
    "\n",
    "sum = num1+num2\n",
    "sub= num1-num2\n",
    "mul= num1*num2\n",
    "div= num1/num2\n",
    "module= num1 % num2\n",
    "flote= num1 // num2\n",
    "expon= num1 ** num2\n",
    "print(\"Addition is:-\", sum, \"\\nsubtraction is:-\", sub,  \"\\nmultiple is:-\",mul,  \"\\ndivisionn is:-\",div,  \"\\nmodules is:-\",module,\n",
    "      \"\\nflote is:-\", flote,  \"\\nexpon is:-\",expon)"
   ]
  },
  {
   "cell_type": "markdown",
   "id": "c0e16c4d-21db-40d3-823f-8aef8bdfd8e9",
   "metadata": {},
   "source": [
    "==========================================================================================================================================="
   ]
  },
  {
   "cell_type": "markdown",
   "id": "1e0ae664-1378-4ceb-af12-ec9bdbaa2298",
   "metadata": {},
   "source": [
    "## 2. Assignment operator\n",
    "\n",
    "##### Assignment operators are used to assign values to variables. Python also provides compound assignment operators that perform operations like addition, subtraction, multiplication, etc.\n",
    "\n",
    "A basic assignment operator is simple =.\n",
    "\n",
    "\n",
    "\n",
    "The assignment operator combines arithmetic operations with assignment.\n",
    "\n",
    "Using compound assignment operators, the reassignment works better.\n",
    "\n",
    "1. Add and assign     --       ( += )\n",
    "\n",
    "2. Subtract and assign  --      ( -= )\n",
    "\n",
    "3. Multiply and assign  --      ( *= )\n",
    "\n",
    "4. Divide and assign    --      ( /= )\n",
    "\n",
    "5. Floor divide and assign  --  ( //= )\n",
    "\n",
    "6. modulus and assign     --    ( %= )\n",
    "\n",
    "7. Exponentiation and assign --  ( **=)\n"
   ]
  },
  {
   "cell_type": "markdown",
   "id": "5d62261e-bc01-4e3f-9f4d-eee4e6946218",
   "metadata": {},
   "source": [
    "==========================================================================================================================================="
   ]
  },
  {
   "cell_type": "markdown",
   "id": "07b5a460-e853-4b5c-9df6-92a78c261b6e",
   "metadata": {},
   "source": [
    "## 3.Comparison operator\n",
    "\n",
    "##### Comparison operators, also called relational operators, are used to compare two values.\n",
    "\n",
    "##### Comparison operators will always provide a Boolean result that is True and False.\n",
    "\n",
    "--> comparison operators are as follows --\n",
    "\n",
    "1. Equal to    --      (==)\n",
    "\n",
    "2. Not Equal to  --    (!=)\n",
    "\n",
    "3. Greater than  --    (>)\n",
    "\n",
    "4. Less than    --     (<)\n",
    "\n",
    "5. Greater than or equal to  --  (>=)\n",
    "\n",
    "6. Less than or equal to  --   (<=)\n",
    "\n",
    "##### Comparison operators will work with numbers, but you can use them with strings as well.\n",
    "\n",
    "##### Strings will be comparing the ASCII values of the string.\n",
    "\n"
   ]
  },
  {
   "cell_type": "code",
   "execution_count": 9,
   "id": "8e508d67-6c65-4a6e-8a15-17fb56442e14",
   "metadata": {},
   "outputs": [
    {
     "name": "stdin",
     "output_type": "stream",
     "text": [
      "Enter your percent :- 111\n"
     ]
    },
    {
     "name": "stdout",
     "output_type": "stream",
     "text": [
      "Invalid percent\n"
     ]
    }
   ],
   "source": [
    "### take percent from user and print the grade\n",
    "percent=eval(input(\"Enter your percent :-\"))\n",
    "if percent>=85  and percent<=100:\n",
    "    print(\"Distinction\")\n",
    "elif percent>=60  and percent<=84:\n",
    "    print(\"First Class\")\n",
    "elif percent>=50 and percent< 60 :\n",
    "    print(\"Second Class\")\n",
    "elif percent>=35 and percent<50:\n",
    "    print(\"Third Class\")\n",
    "elif percent<35:\n",
    "    print(\"Fail\")\n",
    "else:\n",
    "    print(\"Invalid percent\") \n"
   ]
  },
  {
   "cell_type": "markdown",
   "id": "6f5b0ce5-080f-445a-b94d-47c54ec1db9f",
   "metadata": {},
   "source": [
    "==========================================================================================================================================="
   ]
  },
  {
   "cell_type": "markdown",
   "id": "d2ea93f9-f85c-486a-add4-ed613b71e213",
   "metadata": {},
   "source": [
    "\n",
    "## 4. Logical operators\n",
    "\n",
    "##### Logical operators in Python are used to combine multiple conditions and return a Boolean result (True or False).\n",
    "\n",
    "##### There are 3 types of logical operators.\n",
    "\n",
    "## And\n",
    "   ##### Return True if both conditions are True\n",
    "\n",
    "## Or-- \n",
    "   ##### Return True if at least one condition is True.\n",
    "\n",
    "## Not --\n",
    "   ##### Reverse the boolean value.\n"
   ]
  },
  {
   "cell_type": "markdown",
   "id": "d6cdc5d6-831d-4e47-af8d-74d41c8a6c9a",
   "metadata": {},
   "source": [
    "==========================================================================================================================================="
   ]
  },
  {
   "cell_type": "markdown",
   "id": "106cd052-e275-461d-93f3-855bedba89d6",
   "metadata": {},
   "source": [
    "## 5.Identity operator\n",
    " ##### is, is not"
   ]
  },
  {
   "cell_type": "code",
   "execution_count": 4,
   "id": "b7050af5-03e0-4e93-8723-3505ad6f5ff3",
   "metadata": {},
   "outputs": [
    {
     "name": "stdout",
     "output_type": "stream",
     "text": [
      "True\n",
      "True\n",
      "False\n",
      "False\n"
     ]
    }
   ],
   "source": [
    "\n",
    "a=2\n",
    "b=2\n",
    "c=a\n",
    "print(a is b); # true\n",
    "print(a is c); # true\n",
    "print(a is not b); # false\n",
    "print(a is not c); # false"
   ]
  },
  {
   "cell_type": "markdown",
   "id": "4ec1d6c1-ac09-4c0e-aa21-f94324f0d9b1",
   "metadata": {},
   "source": [
    "==========================================================================================================================================="
   ]
  },
  {
   "cell_type": "markdown",
   "id": "e59afa7a-9c36-45cc-9575-112f4a96f8ff",
   "metadata": {},
   "source": [
    "\n",
    "## 6. membership operator\n",
    "#####  IN , Not IN\n"
   ]
  },
  {
   "cell_type": "code",
   "execution_count": 6,
   "id": "b2618c35-0dbf-4fe1-ae1f-809e15b31864",
   "metadata": {},
   "outputs": [
    {
     "name": "stdout",
     "output_type": "stream",
     "text": [
      "True\n",
      "False\n",
      "False\n",
      "True\n"
     ]
    }
   ],
   "source": [
    "a = 10;\n",
    "b = 20;\n",
    "c = a;\n",
    "# print(a in c); # error\n",
    "# print(a not in c); # error\n",
    "# print(a in b); # error\n",
    "# print(a not in b); # error\n",
    "\n",
    "print(\"a\" in \"apple\"); # true\n",
    "print(\"b\" in \"apple\"); # false\n",
    "print(\"a\" not in \"apple\"); # false\n",
    "print(\"b\" not in \"apple\"); # true"
   ]
  },
  {
   "cell_type": "markdown",
   "id": "02845315-836c-430a-9288-089146403315",
   "metadata": {},
   "source": [
    "==========================================================================================================================================="
   ]
  },
  {
   "cell_type": "markdown",
   "id": "e3d7f4ea-ff6c-4741-9a49-a79569384e60",
   "metadata": {},
   "source": [
    "## 7. Bitwise oparat"
   ]
  },
  {
   "cell_type": "markdown",
   "id": "85f632b5-c9aa-4a51-9520-89c6e4984092",
   "metadata": {},
   "source": [
    "##### A bitwise operator performs operations directly on the individual bits (0s and 1s) of numbers, rather than on their numerical values"
   ]
  },
  {
   "cell_type": "markdown",
   "id": "fbe99d3f-db90-48e8-890a-b91ac0070303",
   "metadata": {},
   "source": [
    "#####    & ,  |  , ~  >>  , <<  "
   ]
  },
  {
   "cell_type": "code",
   "execution_count": 1,
   "id": "95e45c38-4177-4d74-872d-fbf6c60f422d",
   "metadata": {},
   "outputs": [
    {
     "data": {
      "text/plain": [
       "15"
      ]
     },
     "execution_count": 1,
     "metadata": {},
     "output_type": "execute_result"
    }
   ],
   "source": [
    "15 | 6"
   ]
  },
  {
   "cell_type": "code",
   "execution_count": 2,
   "id": "111a33b0-cc67-4fc0-9fa7-54e9b63cd160",
   "metadata": {},
   "outputs": [
    {
     "data": {
      "text/plain": [
       "6"
      ]
     },
     "execution_count": 2,
     "metadata": {},
     "output_type": "execute_result"
    }
   ],
   "source": [
    "15 & 6"
   ]
  },
  {
   "cell_type": "code",
   "execution_count": null,
   "id": "e86e8ff6-921b-4725-8502-d120758e5ae0",
   "metadata": {},
   "outputs": [],
   "source": []
  }
 ],
 "metadata": {
  "kernelspec": {
   "display_name": "Python 3 (ipykernel)",
   "language": "python",
   "name": "python3"
  },
  "language_info": {
   "codemirror_mode": {
    "name": "ipython",
    "version": 3
   },
   "file_extension": ".py",
   "mimetype": "text/x-python",
   "name": "python",
   "nbconvert_exporter": "python",
   "pygments_lexer": "ipython3",
   "version": "3.12.7"
  }
 },
 "nbformat": 4,
 "nbformat_minor": 5
}
